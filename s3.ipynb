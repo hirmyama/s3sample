{
 "cells": [
  {
   "cell_type": "markdown",
   "metadata": {},
   "source": [
    "# Jupyter Labの開始方法:\n",
    "- Jupyter用のフォルダ「jupyter」を「ドキュメント」に作成\n",
    "- Google画像検索で適当な画像を探し、Jupyter用のフォルダに、短くわかりやすい名前で保存（例：猫の画像→cat.jpg）\n",
    "- Docker Desktop for Windowsをインストール\n",
    "- スタートボタンをクリック、cmd　でコマンドプロンプトを開き、下記を実行\n",
    "- `docker run -d -p 8888:8888 hirmyama/jn`\n",
    "- Webブラウザで `localhost:8888` を開く"
   ]
  },
  {
   "cell_type": "markdown",
   "metadata": {},
   "source": [
    "# セルの操作\n",
    "- セルの実行: `Ctrl` + `Enter`\n",
    "- セルを実行し、下に次の新しいセルを作成: `Shift` + `Enter`\n",
    "- セルの編集: `Enter`\n",
    "- セルの編集をやめる: `ESC`\n",
    "- セルの削除: `dd`"
   ]
  },
  {
   "cell_type": "code",
   "execution_count": null,
   "metadata": {},
   "outputs": [],
   "source": [
    "import boto3\n",
    "s3 = boto3.resource('s3')"
   ]
  },
  {
   "cell_type": "code",
   "execution_count": null,
   "metadata": {},
   "outputs": [],
   "source": [
    "s3"
   ]
  },
  {
   "cell_type": "code",
   "execution_count": null,
   "metadata": {},
   "outputs": [],
   "source": [
    "# resource api オブジェクトから、client api を使うには、s3.meta.client とする。\n",
    "s3.meta.client.list_buckets()"
   ]
  },
  {
   "cell_type": "code",
   "execution_count": null,
   "metadata": {},
   "outputs": [],
   "source": [
    "# resource apiを使って、バケット一覧を取得\n",
    "list(s3.buckets.all())"
   ]
  },
  {
   "cell_type": "code",
   "execution_count": null,
   "metadata": {},
   "outputs": [],
   "source": [
    "bucket_name = 'test1234123423423xxx' # 各自, 適当なバケット名に変えてください\n",
    "region = 'ap-northeast-1'"
   ]
  },
  {
   "cell_type": "code",
   "execution_count": null,
   "metadata": {},
   "outputs": [],
   "source": [
    "# バケットを作成。\n",
    "# createの引数がちょっと長いですがこれは決まり文句として覚えてください。\n",
    "# バケットを作成するリージョンを明示的に指定する必要があります。\n",
    "s3.Bucket(bucket_name).create(CreateBucketConfiguration={'LocationConstraint':region})"
   ]
  },
  {
   "cell_type": "code",
   "execution_count": null,
   "metadata": {},
   "outputs": [],
   "source": [
    "# バケットを取得\n",
    "bucket = s3.Bucket(bucket_name)"
   ]
  },
  {
   "cell_type": "code",
   "execution_count": null,
   "metadata": {},
   "outputs": [],
   "source": [
    "# バケットの中のオブジェクトを一覧表示\n",
    "list(bucket.objects.all())"
   ]
  },
  {
   "cell_type": "code",
   "execution_count": null,
   "metadata": {},
   "outputs": [],
   "source": [
    "# バケットにファイルをアップロード. ファイル名は各自変えてください。\n",
    "# 第1引数=アップロードする（PC側の）ファイル名\n",
    "# 第2引数=バケットのキー\n",
    "bucket.upload_file('cat.jpg', 'cat.jpg')"
   ]
  },
  {
   "cell_type": "code",
   "execution_count": null,
   "metadata": {},
   "outputs": [],
   "source": [
    "# 再度、バケットの中のオブジェクトを一覧表示\n",
    "list(bucket.objects.all())"
   ]
  },
  {
   "cell_type": "code",
   "execution_count": null,
   "metadata": {},
   "outputs": [],
   "source": [
    "# バケットからファイルをダウンロード\n",
    "# 第1引数=バケットのキー\n",
    "# 第2引数=ダウンロードする（PC側の）ファイル名\n",
    "bucket.download_file('cat.jpg', 'downloaded_cat.jpg')"
   ]
  },
  {
   "cell_type": "code",
   "execution_count": null,
   "metadata": {},
   "outputs": [],
   "source": [
    "# オブジェクトを削除\n",
    "# 注意: bucket.delete() は、バケットを削除する。\n",
    "bucket.Object('cat.jpg').delete()"
   ]
  },
  {
   "cell_type": "code",
   "execution_count": null,
   "metadata": {},
   "outputs": [],
   "source": [
    "# 文字列をバイト列に変換\n",
    "'こんにちは'.encode()"
   ]
  },
  {
   "cell_type": "code",
   "execution_count": null,
   "metadata": {},
   "outputs": [],
   "source": [
    "# バイト列から文字列への変換\n",
    "b'\\xe3\\x81\\x93\\xe3\\x82\\x93\\xe3\\x81\\xab\\xe3\\x81\\xa1\\xe3\\x81\\xaf'.decode()"
   ]
  },
  {
   "cell_type": "code",
   "execution_count": null,
   "metadata": {},
   "outputs": [],
   "source": [
    "# テキストの書き込み\n",
    "bucket.Object('hello.txt').put(Body='こんにちは')"
   ]
  },
  {
   "cell_type": "code",
   "execution_count": null,
   "metadata": {},
   "outputs": [],
   "source": [
    "# テキストの読み込み\n",
    "bucket.Object('hello.txt').get()"
   ]
  },
  {
   "cell_type": "code",
   "execution_count": null,
   "metadata": {},
   "outputs": [],
   "source": [
    "# テキストの読み込み\n",
    "bucket.Object('hello.txt').get()['Body']"
   ]
  },
  {
   "cell_type": "code",
   "execution_count": null,
   "metadata": {},
   "outputs": [],
   "source": [
    "# テキストの読み込み\n",
    "bucket.Object('hello.txt').get()['Body'].read()"
   ]
  },
  {
   "cell_type": "code",
   "execution_count": null,
   "metadata": {},
   "outputs": [],
   "source": [
    "# テキストの読み込み\n",
    "bucket.Object('hello.txt').get()['Body'].read().decode()"
   ]
  }
 ],
 "metadata": {
  "kernelspec": {
   "display_name": "Python 3",
   "language": "python",
   "name": "python3"
  },
  "language_info": {
   "codemirror_mode": {
    "name": "ipython",
    "version": 3
   },
   "file_extension": ".py",
   "mimetype": "text/x-python",
   "name": "python",
   "nbconvert_exporter": "python",
   "pygments_lexer": "ipython3",
   "version": "3.6.6"
  }
 },
 "nbformat": 4,
 "nbformat_minor": 2
}
