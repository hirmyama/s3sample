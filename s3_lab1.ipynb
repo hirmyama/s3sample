{
 "cells": [
  {
   "cell_type": "code",
   "execution_count": null,
   "metadata": {},
   "outputs": [],
   "source": [
    "import boto3\n",
    "s3 = boto3.resource('s3')"
   ]
  },
  {
   "cell_type": "code",
   "execution_count": null,
   "metadata": {},
   "outputs": [],
   "source": [
    "# 他のバケットと重複しないよう、下記数字部分を適当に書き換えてください。\n",
    "bucket_name = 'test-9283792739472934'\n",
    "\n",
    "# バケットを作成するリージョン\n",
    "region = 'ap-northeast-1'\n",
    "\n",
    "# バケットを作成\n",
    "s3.Bucket(bucket_name).create(CreateBucketConfiguration={'LocationConstraint':region})"
   ]
  },
  {
   "cell_type": "code",
   "execution_count": null,
   "metadata": {},
   "outputs": [],
   "source": [
    "bucket = s3.Bucket(bucket_name)"
   ]
  },
  {
   "cell_type": "code",
   "execution_count": null,
   "metadata": {},
   "outputs": [],
   "source": [
    "# 次の手順に進む前に、画像\n",
    "# cat.jpgを準備してください!!\n",
    "# 〜.ipynbと同じ階層に配置してください。"
   ]
  },
  {
   "cell_type": "code",
   "execution_count": null,
   "metadata": {},
   "outputs": [],
   "source": [
    "# ファイルをアップロードするときにサーバーサイド暗号化を指定する\n",
    "# 参考: https://boto3.amazonaws.com/v1/documentation/api/latest/reference/services/s3.html#S3.Client.put_object\n",
    "\n",
    "bucket.upload_file('cat.jpg', 'cat.jpg', ExtraArgs={\n",
    "    'ServerSideEncryption': 'AES256'\n",
    "})\n",
    "\n",
    "# アップロード後、S3マネジメントコンソールにて、オブジェクトの「プロパティ」を見ると\n",
    "# 暗号化されていることが確認できる。"
   ]
  },
  {
   "cell_type": "code",
   "execution_count": null,
   "metadata": {},
   "outputs": [],
   "source": [
    "# 署名付きURLを生成する。\n",
    "# このURLを使用すると、(1)オブジェクトを公開しなくても一時的にダウンロードを許可できる,\n",
    "# (2)有効期限やHTTPメソッドを指定することができる。\n",
    "\n",
    "# 参考: https://boto3.amazonaws.com/v1/documentation/api/latest/reference/services/s3.html#S3.Client.generate_presigned_url\n",
    "# https://stackoverflow.com/questions/34583869/descriptions-of-boto3-clientmethods\n",
    "\n",
    "# generate_presigned_url(ClientMethod, Params=None, ExpiresIn=3600, HttpMethod=None)\n",
    "\n",
    "url = s3.meta.client.generate_presigned_url('get_object', Params={\n",
    "    'Bucket': bucket_name,\n",
    "    'Key': 'cat.jpg',\n",
    "    'ResponseContentType': 'image/jpeg'\n",
    "}, ExpiresIn=60, HttpMethod='GET')\n",
    "print(url)"
   ]
  },
  {
   "cell_type": "code",
   "execution_count": null,
   "metadata": {},
   "outputs": [],
   "source": [
    "# 生成した署名付きURLをこのセルの下部にリンクとして表示。\n",
    "\n",
    "from IPython.core.display import display, HTML\n",
    "display(HTML('<a href=\"%s\">cat</a>' % url))\n",
    "\n",
    "# 有効期限以内に、表示されたリンクをクリックしてください。"
   ]
  }
 ],
 "metadata": {
  "kernelspec": {
   "display_name": "Python 3",
   "language": "python",
   "name": "python3"
  },
  "language_info": {
   "codemirror_mode": {
    "name": "ipython",
    "version": 3
   },
   "file_extension": ".py",
   "mimetype": "text/x-python",
   "name": "python",
   "nbconvert_exporter": "python",
   "pygments_lexer": "ipython3",
   "version": "3.6.6"
  }
 },
 "nbformat": 4,
 "nbformat_minor": 2
}
